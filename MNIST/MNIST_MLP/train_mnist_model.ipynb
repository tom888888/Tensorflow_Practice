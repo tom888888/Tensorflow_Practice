{
 "cells": [
  {
   "cell_type": "code",
   "execution_count": 1,
   "metadata": {},
   "outputs": [
    {
     "name": "stderr",
     "output_type": "stream",
     "text": [
      "/anaconda3/lib/python3.6/site-packages/h5py/__init__.py:34: FutureWarning: Conversion of the second argument of issubdtype from `float` to `np.floating` is deprecated. In future, it will be treated as `np.float64 == np.dtype(float).type`.\n",
      "  from ._conv import register_converters as _register_converters\n"
     ]
    }
   ],
   "source": [
    "import tensorflow as tf\n",
    "import os\n",
    "import net\n",
    "from tensorflow.examples.tutorials.mnist import input_data"
   ]
  },
  {
   "cell_type": "code",
   "execution_count": 2,
   "metadata": {
    "collapsed": true
   },
   "outputs": [],
   "source": [
    "BATCH_SIZE = 100\n",
    "LEARNING_RATE_BASE = 0.8\n",
    "LEARNING_RATE_DECAY = 0.99\n",
    "REGULARIZATION_RATE = 0.0001\n",
    "TRAINING_STEPS = 30000\n",
    "MOVIE_AVERAGE_DECAY = 0.99\n",
    "MODEL_SAVE_PATH = \".\"\n",
    "MODEL_NAME = \"model.ckpt\""
   ]
  },
  {
   "cell_type": "code",
   "execution_count": 3,
   "metadata": {
    "collapsed": true
   },
   "outputs": [],
   "source": [
    "def train(mnist):\n",
    "    x = tf.placeholder(tf.float32, [None, net.INPUT_NODE], name = \"x-input\")\n",
    "    y_ = tf.placeholder(tf.float32, [None, net.OUTPUT_NODE], name = \"y-input\")\n",
    "    \n",
    "    regularizer = tf.contrib.layers.l2_regularizer(REGULARIZATION_RATE)\n",
    "    y = net.net(x, regularizer)\n",
    "    \n",
    "    global_step = tf.Variable(0,trainable=False)\n",
    "    \n",
    "    variable_averages = tf.train.ExponentialMovingAverage(MOVIE_AVERAGE_DECAY, global_step)\n",
    "    \n",
    "    variable_averages_op = variable_averages.apply(tf.trainable_variables())\n",
    "    \n",
    "    cross_entropy = tf.nn.sparse_softmax_cross_entropy_with_logits(logits=y , labels=tf.argmax(y_, 1))\n",
    "    \n",
    "    cross_entropy_mean = tf.reduce_mean(cross_entropy)\n",
    "    \n",
    "    loss = cross_entropy_mean + tf.add_n(tf.get_collection('losses'))\n",
    "    \n",
    "    learning_rate = tf.train.exponential_decay(LEARNING_RATE_BASE, \n",
    "                                               global_step, \n",
    "                                               mnist.train.num_examples/ BATCH_SIZE,\n",
    "                                               LEARNING_RATE_DECAY\n",
    "                                               )\n",
    "    \n",
    "    train_step = tf.train.GradientDescentOptimizer(learning_rate).minimize(loss, global_step=global_step)\n",
    "    \n",
    "    \n",
    "    with tf.control_dependencies([train_step, variable_averages_op]):\n",
    "        train_op = tf.no_op(name='train')  \n",
    "        #確保train_step, variable_averages_op有執行,tf.no_op此步驟沒做事\n",
    "        \n",
    "#     correct_prediction = tf.equal(tf.argmax(y, 1) , tf.argmax(y_, 1))\n",
    "    \n",
    "#     accuracy = tf.reduce_mean(tf.cast(correct_prediction, tf.float32))\n",
    "    \n",
    "    saver = tf.train.Saver()\n",
    "    \n",
    "    with tf.Session() as sess:\n",
    "        tf.global_variables_initializer().run()\n",
    "        \n",
    "        for i in range(TRAINING_STEPS):\n",
    "            xs , ys = mnist.train.next_batch(BATCH_SIZE)\n",
    "            _, loss_value, step = sess.run([train_op, loss, global_step], feed_dict = {x : xs , y_ : ys})\n",
    "            \n",
    "            if i%1000 == 0:\n",
    "                print(\"After %d training step , loss on training batch is %g.\"% (step, loss_value))\n",
    "                saver.save(sess , os.path.join(MODEL_SAVE_PATH,MODEL_NAME), global_step = global_step)"
   ]
  },
  {
   "cell_type": "code",
   "execution_count": 4,
   "metadata": {
    "scrolled": true
   },
   "outputs": [
    {
     "name": "stdout",
     "output_type": "stream",
     "text": [
      "WARNING:tensorflow:From <ipython-input-4-889054c9690b>:2: read_data_sets (from tensorflow.contrib.learn.python.learn.datasets.mnist) is deprecated and will be removed in a future version.\n",
      "Instructions for updating:\n",
      "Please use alternatives such as official/mnist/dataset.py from tensorflow/models.\n",
      "WARNING:tensorflow:From /anaconda3/lib/python3.6/site-packages/tensorflow/contrib/learn/python/learn/datasets/mnist.py:260: maybe_download (from tensorflow.contrib.learn.python.learn.datasets.base) is deprecated and will be removed in a future version.\n",
      "Instructions for updating:\n",
      "Please write your own downloading logic.\n",
      "WARNING:tensorflow:From /anaconda3/lib/python3.6/site-packages/tensorflow/contrib/learn/python/learn/datasets/mnist.py:262: extract_images (from tensorflow.contrib.learn.python.learn.datasets.mnist) is deprecated and will be removed in a future version.\n",
      "Instructions for updating:\n",
      "Please use tf.data to implement this functionality.\n",
      "Extracting ./test_data/train-images-idx3-ubyte.gz\n",
      "WARNING:tensorflow:From /anaconda3/lib/python3.6/site-packages/tensorflow/contrib/learn/python/learn/datasets/mnist.py:267: extract_labels (from tensorflow.contrib.learn.python.learn.datasets.mnist) is deprecated and will be removed in a future version.\n",
      "Instructions for updating:\n",
      "Please use tf.data to implement this functionality.\n",
      "Extracting ./test_data/train-labels-idx1-ubyte.gz\n",
      "WARNING:tensorflow:From /anaconda3/lib/python3.6/site-packages/tensorflow/contrib/learn/python/learn/datasets/mnist.py:110: dense_to_one_hot (from tensorflow.contrib.learn.python.learn.datasets.mnist) is deprecated and will be removed in a future version.\n",
      "Instructions for updating:\n",
      "Please use tf.one_hot on tensors.\n",
      "Extracting ./test_data/t10k-images-idx3-ubyte.gz\n",
      "Extracting ./test_data/t10k-labels-idx1-ubyte.gz\n",
      "WARNING:tensorflow:From /anaconda3/lib/python3.6/site-packages/tensorflow/contrib/learn/python/learn/datasets/mnist.py:290: DataSet.__init__ (from tensorflow.contrib.learn.python.learn.datasets.mnist) is deprecated and will be removed in a future version.\n",
      "Instructions for updating:\n",
      "Please use alternatives such as official/mnist/dataset.py from tensorflow/models.\n",
      "After 1 training step , loss on training batch is 2.93463.\n",
      "After 1001 training step , loss on training batch is 0.182076.\n",
      "After 2001 training step , loss on training batch is 0.159506.\n",
      "After 3001 training step , loss on training batch is 0.168977.\n",
      "After 4001 training step , loss on training batch is 0.158911.\n",
      "After 5001 training step , loss on training batch is 0.122403.\n",
      "After 6001 training step , loss on training batch is 0.110361.\n",
      "After 7001 training step , loss on training batch is 0.111216.\n",
      "After 8001 training step , loss on training batch is 0.0835321.\n",
      "After 9001 training step , loss on training batch is 0.0759792.\n",
      "After 10001 training step , loss on training batch is 0.07437.\n",
      "After 11001 training step , loss on training batch is 0.0642263.\n",
      "After 12001 training step , loss on training batch is 0.0633649.\n",
      "After 13001 training step , loss on training batch is 0.067451.\n",
      "After 14001 training step , loss on training batch is 0.0588824.\n",
      "After 15001 training step , loss on training batch is 0.0496141.\n",
      "After 16001 training step , loss on training batch is 0.0507742.\n",
      "After 17001 training step , loss on training batch is 0.0443688.\n",
      "After 18001 training step , loss on training batch is 0.0487321.\n",
      "After 19001 training step , loss on training batch is 0.0395391.\n",
      "After 20001 training step , loss on training batch is 0.0462962.\n",
      "After 21001 training step , loss on training batch is 0.0421218.\n",
      "After 22001 training step , loss on training batch is 0.0390283.\n",
      "After 23001 training step , loss on training batch is 0.0404557.\n",
      "After 24001 training step , loss on training batch is 0.0405956.\n",
      "After 25001 training step , loss on training batch is 0.0359286.\n",
      "After 26001 training step , loss on training batch is 0.0339455.\n",
      "After 27001 training step , loss on training batch is 0.0354044.\n",
      "After 28001 training step , loss on training batch is 0.0348042.\n",
      "After 29001 training step , loss on training batch is 0.034514.\n"
     ]
    },
    {
     "ename": "SystemExit",
     "evalue": "",
     "output_type": "error",
     "traceback": [
      "An exception has occurred, use %tb to see the full traceback.\n",
      "\u001b[0;31mSystemExit\u001b[0m\n"
     ]
    },
    {
     "name": "stderr",
     "output_type": "stream",
     "text": [
      "/anaconda3/lib/python3.6/site-packages/IPython/core/interactiveshell.py:2870: UserWarning: To exit: use 'exit', 'quit', or Ctrl-D.\n",
      "  warn(\"To exit: use 'exit', 'quit', or Ctrl-D.\", stacklevel=1)\n"
     ]
    }
   ],
   "source": [
    "def main(argv=None):\n",
    "    mnist = input_data.read_data_sets(\"./test_data\" , one_hot=True)\n",
    "    train(mnist)\n",
    "if __name__ == '__main__':\n",
    "    tf.app.run()"
   ]
  }
 ],
 "metadata": {
  "kernelspec": {
   "display_name": "Python 3",
   "language": "python",
   "name": "python3"
  },
  "language_info": {
   "codemirror_mode": {
    "name": "ipython",
    "version": 3
   },
   "file_extension": ".py",
   "mimetype": "text/x-python",
   "name": "python",
   "nbconvert_exporter": "python",
   "pygments_lexer": "ipython3",
   "version": "3.6.3"
  }
 },
 "nbformat": 4,
 "nbformat_minor": 2
}
